{
  "nbformat": 4,
  "nbformat_minor": 0,
  "metadata": {
    "colab": {
      "name": "cows&chickens v0.1.ipynb",
      "version": "0.3.2",
      "provenance": [],
      "collapsed_sections": [],
      "include_colab_link": true
    },
    "kernelspec": {
      "name": "python3",
      "display_name": "Python 3"
    }
  },
  "cells": [
    {
      "cell_type": "markdown",
      "metadata": {
        "id": "view-in-github",
        "colab_type": "text"
      },
      "source": [
        "[View in Colaboratory](https://colab.research.google.com/github/lucagattoni/cows-chickens/blob/master/cows&chickens_v0_1.ipynb)"
      ]
    },
    {
      "metadata": {
        "id": "WTgGcStugjgC",
        "colab_type": "code",
        "colab": {}
      },
      "cell_type": "code",
      "source": [
        "#!cat /proc/meminfo\n",
        "#!cat /proc/cpuinfo"
      ],
      "execution_count": 0,
      "outputs": []
    },
    {
      "metadata": {
        "id": "Q0u3VR-gmbF4",
        "colab_type": "code",
        "colab": {
          "base_uri": "https://localhost:8080/",
          "height": 119
        },
        "outputId": "df9746d0-418a-4a42-8139-7a577b5695ef"
      },
      "cell_type": "code",
      "source": [
        "# Install a Drive FUSE wrapper.\n",
        "# https://github.com/astrada/google-drive-ocamlfuse\n",
        "!apt-get update -qq 2>&1 > /dev/null\n",
        "!apt-get install -y -qq software-properties-common python-software-properties module-init-tools\n",
        "!add-apt-repository -y ppa:alessandro-strada/ppa 2>&1 > /dev/null\n",
        "!apt-get update -qq 2>&1 > /dev/null\n",
        "!apt-get -y install -qq google-drive-ocamlfuse fuse"
      ],
      "execution_count": 1,
      "outputs": [
        {
          "output_type": "stream",
          "text": [
            "gpg: keybox '/tmp/tmp8bmbpjnc/pubring.gpg' created\n",
            "gpg: /tmp/tmp8bmbpjnc/trustdb.gpg: trustdb created\n",
            "gpg: key AD5F235DF639B041: public key \"Launchpad PPA for Alessandro Strada\" imported\n",
            "gpg: Total number processed: 1\n",
            "gpg:               imported: 1\n",
            "Warning: apt-key output should not be parsed (stdout is not a terminal)\n"
          ],
          "name": "stdout"
        }
      ]
    },
    {
      "metadata": {
        "id": "XoDG4oKpoeyS",
        "colab_type": "code",
        "colab": {}
      },
      "cell_type": "code",
      "source": [
        "# Generate auth tokens for Colab\n",
        "from google.colab import auth\n",
        "auth.authenticate_user()"
      ],
      "execution_count": 0,
      "outputs": []
    },
    {
      "metadata": {
        "id": "5Jk9jZm8mhFX",
        "colab_type": "code",
        "colab": {
          "base_uri": "https://localhost:8080/",
          "height": 255
        },
        "outputId": "08914c8f-a157-4551-ebb4-306c821ec5f1"
      },
      "cell_type": "code",
      "source": [
        "# Generate creds for the Drive FUSE library.\n",
        "from oauth2client.client import GoogleCredentials\n",
        "creds = GoogleCredentials.get_application_default()\n",
        "import getpass\n",
        "# Work around misordering of STREAM and STDIN in Jupyter.\n",
        "# https://github.com/jupyter/notebook/issues/3159\n",
        "prompt = !google-drive-ocamlfuse -headless -id={creds.client_id} -secret={creds.client_secret} < /dev/null 2>&1 | grep URL\n",
        "vcode = getpass.getpass(prompt[0] + '\\n\\nEnter verification code: ')\n",
        "!echo {vcode} | google-drive-ocamlfuse -headless -id={creds.client_id} -secret={creds.client_secret}"
      ],
      "execution_count": 3,
      "outputs": [
        {
          "output_type": "error",
          "ename": "IndexError",
          "evalue": "ignored",
          "traceback": [
            "\u001b[0;31m\u001b[0m",
            "\u001b[0;31mIndexError\u001b[0mTraceback (most recent call last)",
            "\u001b[0;32m<ipython-input-3-009ee7454d7b>\u001b[0m in \u001b[0;36m<module>\u001b[0;34m()\u001b[0m\n\u001b[1;32m      5\u001b[0m \u001b[0;31m# https://github.com/jupyter/notebook/issues/3159\u001b[0m\u001b[0;34m\u001b[0m\u001b[0;34m\u001b[0m\u001b[0m\n\u001b[1;32m      6\u001b[0m \u001b[0mprompt\u001b[0m \u001b[0;34m=\u001b[0m \u001b[0mget_ipython\u001b[0m\u001b[0;34m(\u001b[0m\u001b[0;34m)\u001b[0m\u001b[0;34m.\u001b[0m\u001b[0mgetoutput\u001b[0m\u001b[0;34m(\u001b[0m\u001b[0;34mu'google-drive-ocamlfuse -headless -id={creds.client_id} -secret={creds.client_secret} < /dev/null 2>&1 | grep URL'\u001b[0m\u001b[0;34m)\u001b[0m\u001b[0;34m\u001b[0m\u001b[0m\n\u001b[0;32m----> 7\u001b[0;31m \u001b[0mvcode\u001b[0m \u001b[0;34m=\u001b[0m \u001b[0mgetpass\u001b[0m\u001b[0;34m.\u001b[0m\u001b[0mgetpass\u001b[0m\u001b[0;34m(\u001b[0m\u001b[0mprompt\u001b[0m\u001b[0;34m[\u001b[0m\u001b[0;36m0\u001b[0m\u001b[0;34m]\u001b[0m \u001b[0;34m+\u001b[0m \u001b[0;34m'\\n\\nEnter verification code: '\u001b[0m\u001b[0;34m)\u001b[0m\u001b[0;34m\u001b[0m\u001b[0m\n\u001b[0m\u001b[1;32m      8\u001b[0m \u001b[0mget_ipython\u001b[0m\u001b[0;34m(\u001b[0m\u001b[0;34m)\u001b[0m\u001b[0;34m.\u001b[0m\u001b[0msystem\u001b[0m\u001b[0;34m(\u001b[0m\u001b[0;34mu'echo {vcode} | google-drive-ocamlfuse -headless -id={creds.client_id} -secret={creds.client_secret}'\u001b[0m\u001b[0;34m)\u001b[0m\u001b[0;34m\u001b[0m\u001b[0m\n",
            "\u001b[0;31mIndexError\u001b[0m: list index out of range"
          ]
        }
      ]
    },
    {
      "metadata": {
        "id": "TwICRBgliyLB",
        "colab_type": "code",
        "colab": {
          "base_uri": "https://localhost:8080/",
          "height": 357
        },
        "outputId": "f88045d8-e75a-426c-93c7-dad169eba0d2"
      },
      "cell_type": "code",
      "source": [
        "!apt-get install -y -qq software-properties-common python-software-properties module-init-tools\n",
        "!add-apt-repository -y ppa:alessandro-strada/ppa 2>&1 > /dev/null\n",
        "!apt-get update -qq 2>&1 > /dev/null\n",
        "!apt-get -y install -qq google-drive-ocamlfuse fuse\n",
        "from google.colab import auth\n",
        "auth.authenticate_user()\n",
        "from oauth2client.client import GoogleCredentials\n",
        "creds = GoogleCredentials.get_application_default()\n",
        "import getpass\n",
        "prompt = !google-drive-ocamlfuse -headless -id={creds.client_id} -secret={creds.client_secret} < /dev/null 2>&1 | grep URL\n",
        "vcode = getpass.getpass(prompt[0] + '\\n\\nEnter verification code: ')\n",
        "!echo {vcode} | google-drive-ocamlfuse -headless -id={creds.client_id} -secret={creds.client_secret}"
      ],
      "execution_count": 3,
      "outputs": [
        {
          "output_type": "stream",
          "text": [
            "gpg: keybox '/tmp/tmpuh_4r0cp/pubring.gpg' created\n",
            "gpg: /tmp/tmpuh_4r0cp/trustdb.gpg: trustdb created\n",
            "gpg: key AD5F235DF639B041: public key \"Launchpad PPA for Alessandro Strada\" imported\n",
            "gpg: Total number processed: 1\n",
            "gpg:               imported: 1\n",
            "Warning: apt-key output should not be parsed (stdout is not a terminal)\n"
          ],
          "name": "stdout"
        },
        {
          "output_type": "error",
          "ename": "IndexError",
          "evalue": "ignored",
          "traceback": [
            "\u001b[0;31m---------------------------------------------------------------------------\u001b[0m",
            "\u001b[0;31mIndexError\u001b[0m                                Traceback (most recent call last)",
            "\u001b[0;32m<ipython-input-3-4b2547bbb7d4>\u001b[0m in \u001b[0;36m<module>\u001b[0;34m()\u001b[0m\n\u001b[1;32m      9\u001b[0m \u001b[0;32mimport\u001b[0m \u001b[0mgetpass\u001b[0m\u001b[0;34m\u001b[0m\u001b[0m\n\u001b[1;32m     10\u001b[0m \u001b[0mprompt\u001b[0m \u001b[0;34m=\u001b[0m \u001b[0mget_ipython\u001b[0m\u001b[0;34m(\u001b[0m\u001b[0;34m)\u001b[0m\u001b[0;34m.\u001b[0m\u001b[0mgetoutput\u001b[0m\u001b[0;34m(\u001b[0m\u001b[0;34m'google-drive-ocamlfuse -headless -id={creds.client_id} -secret={creds.client_secret} < /dev/null 2>&1 | grep URL'\u001b[0m\u001b[0;34m)\u001b[0m\u001b[0;34m\u001b[0m\u001b[0m\n\u001b[0;32m---> 11\u001b[0;31m \u001b[0mvcode\u001b[0m \u001b[0;34m=\u001b[0m \u001b[0mgetpass\u001b[0m\u001b[0;34m.\u001b[0m\u001b[0mgetpass\u001b[0m\u001b[0;34m(\u001b[0m\u001b[0mprompt\u001b[0m\u001b[0;34m[\u001b[0m\u001b[0;36m0\u001b[0m\u001b[0;34m]\u001b[0m \u001b[0;34m+\u001b[0m \u001b[0;34m'\\n\\nEnter verification code: '\u001b[0m\u001b[0;34m)\u001b[0m\u001b[0;34m\u001b[0m\u001b[0m\n\u001b[0m\u001b[1;32m     12\u001b[0m \u001b[0mget_ipython\u001b[0m\u001b[0;34m(\u001b[0m\u001b[0;34m)\u001b[0m\u001b[0;34m.\u001b[0m\u001b[0msystem\u001b[0m\u001b[0;34m(\u001b[0m\u001b[0;34m'echo {vcode} | google-drive-ocamlfuse -headless -id={creds.client_id} -secret={creds.client_secret}'\u001b[0m\u001b[0;34m)\u001b[0m\u001b[0;34m\u001b[0m\u001b[0m\n",
            "\u001b[0;31mIndexError\u001b[0m: list index out of range"
          ]
        }
      ]
    },
    {
      "metadata": {
        "id": "c99EvWo1s9-x",
        "colab_type": "code",
        "colab": {
          "base_uri": "https://localhost:8080/",
          "height": 221
        },
        "outputId": "b8878254-c67d-41ba-e84a-1886438e4cf2"
      },
      "cell_type": "code",
      "source": [
        "# Create a directory and mount Google Drive using that directory.\n",
        "!mkdir -p drive\n",
        "!google-drive-ocamlfuse drive\n",
        "\n",
        "!ls drive/"
      ],
      "execution_count": 7,
      "outputs": [
        {
          "output_type": "stream",
          "text": [
            "fuse: mountpoint is not empty\r\n",
            "fuse: if you are sure this is safe, use the 'nonempty' mount option\n",
            "Colab Notebooks\n",
            "created.txt\n",
            "GSB\n",
            "iscrizioni_evento_ivoclar_vivadentxls-4.xls\n",
            "kaggle.json\n",
            "Luca Gattoni - Curriculum Vitae.doc\n",
            "Luca Gattoni - Curriculum Vitae.doc.odt\n",
            "my\n",
            "tmp\n",
            "wrk\n"
          ],
          "name": "stdout"
        }
      ]
    },
    {
      "metadata": {
        "id": "fBhMzyjNHyEJ",
        "colab_type": "code",
        "colab": {
          "base_uri": "https://localhost:8080/",
          "height": 51
        },
        "outputId": "b3d98c61-cbba-4d03-a5b9-4fe59999253b"
      },
      "cell_type": "code",
      "source": [
        "import os, shutil\n",
        "import errno\n",
        "\n",
        "original_images_dir = 'drive/Colab Notebooks/cainthus/data'\n",
        "origina_cows_dir = os.path.join(original_images_dir,'Cows')\n",
        "original_chickens_dir = os.path.join(original_images_dir,'Chickens')\n",
        "dest_base_dir = 'dataset'\n",
        "\n",
        "path_cow, dirs, fileslist_cows = next(os.walk(origina_cows_dir))\n",
        "cows_num = len(fileslist_cows)\n",
        "print('cows_num=',cows_num)\n",
        "\n",
        "path, dirs, fileslist_chickens = next(os.walk(original_chickens_dir))\n",
        "chickens_num = len(fileslist_chickens)\n",
        "print('chickens num=',chickens_num)"
      ],
      "execution_count": 8,
      "outputs": [
        {
          "output_type": "stream",
          "text": [
            "cows_num= 2052\n",
            "chickens num= 1980\n"
          ],
          "name": "stdout"
        }
      ]
    },
    {
      "metadata": {
        "id": "6YY2M7oLJIWT",
        "colab_type": "code",
        "colab": {}
      },
      "cell_type": "code",
      "source": [
        "try:\n",
        "  os.mkdir(dest_base_dir)\n",
        "except OSError as e:\n",
        "  if e.errno != errno.EEXIST:\n",
        "    raise\n",
        "\n",
        "train_dir = os.path.join(dest_base_dir, 'train')\n",
        "try:\n",
        "  os.mkdir(train_dir)\n",
        "except OSError as e:\n",
        "  if e.errno != errno.EEXIST:\n",
        "    raise\n",
        "\n",
        "\n",
        "validation_dir = os.path.join(dest_base_dir, 'validation')\n",
        "try:\n",
        "  os.mkdir(validation_dir)\n",
        "except OSError as e:\n",
        "  if e.errno != errno.EEXIST:\n",
        "    raise\n",
        "\n",
        "test_dir = os.path.join(dest_base_dir, 'test')\n",
        "try:\n",
        "  os.mkdir(test_dir)\n",
        "except OSError as e:\n",
        "  if e.errno != errno.EEXIST:\n",
        "    raise"
      ],
      "execution_count": 0,
      "outputs": []
    },
    {
      "metadata": {
        "id": "QYzpiSJqJpb0",
        "colab_type": "code",
        "colab": {}
      },
      "cell_type": "code",
      "source": [
        "train_cows_dir = os.path.join(train_dir, 'cows')\n",
        "try:\n",
        "  os.mkdir(train_cows_dir)\n",
        "except OSError as e:\n",
        "  if e.errno != errno.EEXIST:\n",
        "    raise\n",
        "\n",
        "    \n",
        "train_chickens_dir = os.path.join(train_dir, 'chickens')\n",
        "try:\n",
        "  os.mkdir(train_chickens_dir)\n",
        "except OSError as e:\n",
        "  if e.errno != errno.EEXIST:\n",
        "    raise\n",
        "\n",
        "    \n",
        "validation_cows_dir = os.path.join(validation_dir, 'cows')\n",
        "try:\n",
        "  os.mkdir(validation_cows_dir)\n",
        "except OSError as e:\n",
        "  if e.errno != errno.EEXIST:\n",
        "    raise\n",
        "\n",
        "    \n",
        "validation_chickens_dir = os.path.join(validation_dir, 'chickens')\n",
        "try:\n",
        "  os.mkdir(validation_chickens_dir)\n",
        "except OSError as e:\n",
        "  if e.errno != errno.EEXIST:\n",
        "    raise\n",
        "\n",
        "    \n",
        "test_cows_dir = os.path.join(test_dir, 'cows')\n",
        "try:\n",
        "  os.mkdir(test_cows_dir)\n",
        "except OSError as e:\n",
        "  if e.errno != errno.EEXIST:\n",
        "    raise\n",
        "\n",
        "    \n",
        "test_chickens_dir = os.path.join(test_dir, 'chickens')\n",
        "try:\n",
        "  os.mkdir(test_chickens_dir)\n",
        "except OSError as e:\n",
        "  if e.errno != errno.EEXIST:\n",
        "    raise"
      ],
      "execution_count": 0,
      "outputs": []
    },
    {
      "metadata": {
        "id": "oMoAS-zoKR2Y",
        "colab_type": "code",
        "colab": {}
      },
      "cell_type": "code",
      "source": [
        "train_len = 1000\n",
        "valid_len = 490\n",
        "test_len = 490\n",
        "\n",
        "# Cows\n",
        "\n",
        "for i in range(train_len):\n",
        "  src_file = os.path.join(origina_cows_dir, fileslist_cows[i])\n",
        "  dst_file = os.path.join(train_cows_dir, str(i)+'.jpg')\n",
        "  shutil.copyfile(src_file, dst_file)\n",
        "  \n",
        "for i in range(train_len, train_len+ valid_len):\n",
        "  src_file = os.path.join(origina_cows_dir, fileslist_cows[i])\n",
        "  dst_file = os.path.join(validation_cows_dir, str(i)+'.jpg')\n",
        "  shutil.copyfile(src_file, dst_file)\n",
        "  \n",
        "for i in range(train_len+ valid_len, train_len+ valid_len + test_len):\n",
        "  src_file = os.path.join(origina_cows_dir, fileslist_cows[i])\n",
        "  dst_file = os.path.join(test_cows_dir, str(i)+'.jpg')\n",
        "  shutil.copyfile(src_file, dst_file)\n",
        "  \n",
        "  \n",
        "# Chickens\n",
        "\n",
        "for i in range(train_len):\n",
        "  src_file = os.path.join(original_chickens_dir, fileslist_chickens[i])\n",
        "  dst_file = os.path.join(train_chickens_dir, str(i)+'.jpg')\n",
        "  shutil.copyfile(src_file, dst_file)\n",
        "  \n",
        "for i in range(train_len, train_len+ valid_len):\n",
        "  src_file = os.path.join(original_chickens_dir, fileslist_chickens[i])\n",
        "  dst_file = os.path.join(validation_chickens_dir, str(i)+'.jpg')\n",
        "  shutil.copyfile(src_file, dst_file)\n",
        "  \n",
        "for i in range(train_len+ valid_len, train_len+ valid_len + test_len):\n",
        "  src_file = os.path.join(original_chickens_dir, fileslist_chickens[i])\n",
        "  dst_file = os.path.join(test_chickens_dir, str(i)+'.jpg')\n",
        "  shutil.copyfile(src_file, dst_file)"
      ],
      "execution_count": 0,
      "outputs": []
    },
    {
      "metadata": {
        "id": "COEZg7LiaQ-T",
        "colab_type": "code",
        "colab": {}
      },
      "cell_type": "code",
      "source": [
        "DEBUG = True\n",
        "\n",
        "if DEBUG:\n",
        "  print('total training cows images:', len(os.listdir(train_cows_dir)))\n",
        "  \n",
        "if DEBUG:\n",
        "  print('total training chickens images:', len(os.listdir(train_chickens_dir)))\n",
        "  \n",
        "if DEBUG:\n",
        "  print('total validation cows images:', len(os.listdir(validation_cows_dir)))\n",
        "  \n",
        "if DEBUG:\n",
        "  print('total validation chickens images:', len(os.listdir(validation_chickens_dir)))\n",
        "\n",
        "if DEBUG:\n",
        "  print('total test cows images:', len(os.listdir(test_cows_dir)))\n",
        "  \n",
        "if DEBUG:\n",
        "  print('total test chickens images:', len(os.listdir(test_chickens_dir)))"
      ],
      "execution_count": 0,
      "outputs": []
    },
    {
      "metadata": {
        "id": "Qr-K1zR2ZSoA",
        "colab_type": "code",
        "colab": {
          "base_uri": "https://localhost:8080/",
          "height": 510
        },
        "outputId": "ae70ff99-6937-4654-93df-d10f239c9e7c"
      },
      "cell_type": "code",
      "source": [
        "from keras import layers\n",
        "from keras import models\n",
        "from keras import optimizers\n",
        "\n",
        "model = models.Sequential()\n",
        "model.add(layers.Conv2D(32, (3, 3), activation='relu',\n",
        "input_shape=(150, 150, 3)))\n",
        "model.add(layers.MaxPooling2D((2, 2)))\n",
        "model.add(layers.Conv2D(64, (3, 3), activation='relu'))\n",
        "model.add(layers.MaxPooling2D((2, 2)))\n",
        "model.add(layers.Conv2D(128, (3, 3), activation='relu'))\n",
        "model.add(layers.MaxPooling2D((2, 2)))\n",
        "model.add(layers.Conv2D(128, (3, 3), activation='relu'))\n",
        "model.add(layers.MaxPooling2D((2, 2)))\n",
        "model.add(layers.Flatten())\n",
        "model.add(layers.Dense(512, activation='relu'))\n",
        "model.add(layers.Dense(1, activation='sigmoid'))\n",
        "\n",
        "model.summary()\n",
        "\n",
        "\n",
        "model.compile(loss='binary_crossentropy',\n",
        "              optimizer=optimizers.RMSprop(lr=1e-4),\n",
        "              metrics=['acc'])"
      ],
      "execution_count": 62,
      "outputs": [
        {
          "output_type": "stream",
          "text": [
            "_________________________________________________________________\n",
            "Layer (type)                 Output Shape              Param #   \n",
            "=================================================================\n",
            "conv2d_5 (Conv2D)            (None, 148, 148, 32)      896       \n",
            "_________________________________________________________________\n",
            "max_pooling2d_5 (MaxPooling2 (None, 74, 74, 32)        0         \n",
            "_________________________________________________________________\n",
            "conv2d_6 (Conv2D)            (None, 72, 72, 64)        18496     \n",
            "_________________________________________________________________\n",
            "max_pooling2d_6 (MaxPooling2 (None, 36, 36, 64)        0         \n",
            "_________________________________________________________________\n",
            "conv2d_7 (Conv2D)            (None, 34, 34, 128)       73856     \n",
            "_________________________________________________________________\n",
            "max_pooling2d_7 (MaxPooling2 (None, 17, 17, 128)       0         \n",
            "_________________________________________________________________\n",
            "conv2d_8 (Conv2D)            (None, 15, 15, 128)       147584    \n",
            "_________________________________________________________________\n",
            "max_pooling2d_8 (MaxPooling2 (None, 7, 7, 128)         0         \n",
            "_________________________________________________________________\n",
            "flatten_2 (Flatten)          (None, 6272)              0         \n",
            "_________________________________________________________________\n",
            "dense_3 (Dense)              (None, 512)               3211776   \n",
            "_________________________________________________________________\n",
            "dense_4 (Dense)              (None, 1)                 513       \n",
            "=================================================================\n",
            "Total params: 3,453,121\n",
            "Trainable params: 3,453,121\n",
            "Non-trainable params: 0\n",
            "_________________________________________________________________\n"
          ],
          "name": "stdout"
        }
      ]
    },
    {
      "metadata": {
        "id": "XL6eII3DXs-E",
        "colab_type": "code",
        "colab": {}
      },
      "cell_type": "code",
      "source": [
        "from keras.preprocessing.image import ImageDataGenerator\n",
        "\n",
        "train_datagen = ImageDataGenerator(rescale=1./255)\n",
        "test_datagen = ImageDataGenerator(rescale=1./255)\n",
        "\n",
        "train_generator = train_datagen.flow_from_directory(train_dir,\n",
        "                                                    target_size=(150, 150),\n",
        "                                                    batch_size=20,\n",
        "                                                    class_mode='binary')\n",
        "\n",
        "validation_generator = test_datagen.flow_from_directory(validation_dir,\n",
        "                                                        target_size=(150, 150),\n",
        "                                                        batch_size=20,\n",
        "                                                        class_mode='binary')"
      ],
      "execution_count": 0,
      "outputs": []
    },
    {
      "metadata": {
        "id": "eH5b8IyJZ1PZ",
        "colab_type": "code",
        "colab": {}
      },
      "cell_type": "code",
      "source": [
        "history = model.fit_generator(train_generator,\n",
        "                              steps_per_epoch=100,\n",
        "                              epochs=30,\n",
        "                              validation_data=validation_generator,\n",
        "                              validation_steps=50)\n",
        "\n",
        "model.save('cows_and_chickens_test1.h5')"
      ],
      "execution_count": 0,
      "outputs": []
    },
    {
      "metadata": {
        "id": "jJoqRXGGbdNl",
        "colab_type": "code",
        "colab": {}
      },
      "cell_type": "code",
      "source": [
        "import matplotlib.pyplot as plt\n",
        "\n",
        "acc = history.history['acc']\n",
        "val_acc = history.history['val_acc']\n",
        "loss = history.history['loss']\n",
        "val_loss = history.history['val_loss']\n",
        "epochs = range(1, len(acc) + 1)\n",
        "\n",
        "plt.plot(epochs, acc, 'bo', label='Training acc')\n",
        "plt.plot(epochs, val_acc, 'b', label='Validation acc')\n",
        "plt.title('Training and validation accuracy')\n",
        "plt.legend()\n",
        "plt.figure()\n",
        "plt.plot(epochs, loss, 'bo', label='Training loss')\n",
        "plt.plot(epochs, val_loss, 'b', label='Validation loss')\n",
        "plt.title('Training and validation loss')\n",
        "plt.legend()\n",
        "\n",
        "plt.show()"
      ],
      "execution_count": 0,
      "outputs": []
    }
  ]
}